{
 "cells": [
  {
   "cell_type": "markdown",
   "id": "c2b16772",
   "metadata": {},
   "source": [
    "# Non-marketplace simulations"
   ]
  },
  {
   "cell_type": "markdown",
   "id": "98992575",
   "metadata": {},
   "source": [
    "### A. Introduction"
   ]
  },
  {
   "cell_type": "markdown",
   "id": "c95e1d8b",
   "metadata": {},
   "source": [
    "In this notebook you will see how to run the four classes of non-marketplace simulations. The factor that differentiates these simulations is the number of Rho and Herding parameters considered in each of them. At this point it might be useful to formulate a brief reminder about the nature of the aforementioned parameters:\n",
    "\n",
    "- __Rho (ρ)__: Represents the cost of posting a rating measured in terms of the difference between the expected product experience and the actual product experience. The higher Rho is, the higher the difference between the expected and the actual experience will have to be for the user to leave a review about the product. \n",
    "\n",
    "\n",
    "\n",
    "- __Herding parameter__: A product-specific measurement of the probability of exhibiting herding behavior (i.e. be influenced by previous users' reviews at the time of posting a review). The higher the herding parameter is, the more likely it is that the review of a user will be influenced by all previously posted reviews.\n",
    "\n",
    "\n",
    "As mentioned, there are four different classes of non-marketplace simulations of increasing complexity defined by the number of Rho and herding parameters considered.\n",
    "\n",
    "1. __Single Rho Simulation__: It is represented by the SingleRhoSimulator class. This configuration uses a single value for the rho parameter irrespective of whether the actual product experience was better or worse than expected. This implies that the cost of rating is the same irrespective of whether the sentiment behind such rating is negative or positive.  \n",
    "\n",
    "\n",
    "2. __Double Rho Simulation__: It is represented by the DoubleRhoSimulator class, which is a child class of the single SingleRhoSimulator. This kind of simulation allows for the existence of two different rho parameters. One of these will apply for the cases when the the difference between the actual and the expected product experience is positive (denoted as ρ+) while the other applies in those cases where such difference is negative (denoted as ρ-). This kind of simulation allows you to consider different costs for leaving a review depending on the sentiment (positive/negative) behind it.\n",
    "\n",
    "\n",
    "3. __Herding Simulation__: It is represented by the HerdingSimulator class, which is a child class of the DoubleRhoSimulation class. It adds a herding parameter to the Double Rho Simulation. Now in case a given user decides to leave a review, (i.e. the difference between the actual and the expected product experience is larger than the corresponding rho parameter) it will be subject to a given probability of exhibiting herding behaviour while doing so.\n",
    "\n",
    "\n",
    "4. __Double Herding Simulation__: It is represented by the DoubleHerdingSimulator class which is a child of the HerdingSimulatorClass. A second product-specific herding parameter is included. One of the herding parameters will apply when the visitor's intended rating is above a given metric of choice (the mode or median are currently implemented) of the previously existing rating, while the other applies when the intended rating is below such metric. \n",
    "\n",
    "If you want to see more in detail these different simulator classes you can visit the \"simulator_class.py\" file located in \"snpe/snpe/simulations/\" inside the repo, where you will find the code behind these classes.\n"
   ]
  },
  {
   "cell_type": "markdown",
   "id": "8610b120",
   "metadata": {},
   "source": [
    "### B. Preparing the simulation"
   ]
  },
  {
   "cell_type": "markdown",
   "id": "ef87e2b1",
   "metadata": {},
   "source": [
    "After having reviewed the differences between the four classes of non-marketplace simulations, let's start by executing the following cell containing the relevant imports to run the simulations."
   ]
  },
  {
   "cell_type": "code",
   "execution_count": 3,
   "id": "cfa8509a",
   "metadata": {},
   "outputs": [
    {
     "name": "stdout",
     "output_type": "stream",
     "text": [
      "The autoreload extension is already loaded. To reload it, use:\n",
      "  %reload_ext autoreload\n",
      "The nb_black extension is already loaded. To reload it, use:\n",
      "  %reload_ext nb_black\n"
     ]
    },
    {
     "data": {
      "application/javascript": "\n            setTimeout(function() {\n                var nbb_cell_id = 3;\n                var nbb_unformatted_code = \"%load_ext autoreload\\n%autoreload 2\\n\\n### Just a formatting related plugin\\n%load_ext nb_black\\n\\n%matplotlib inline\\nimport matplotlib.pyplot as plt\\n\\nimport sys\\n\\nsys.path.append(\\\"../\\\")\\n\\nimport multiprocessing as mp\\n\\nfrom collections import deque\\nfrom pathlib import Path\\nfrom typing import Dict, Optional\\n\\nimport arviz\\n\\nimport numpy as np\\nimport pandas as pd\\nimport pyreadr\\nimport sbi\\nimport sbi.utils as sbi_utils\\nimport seaborn as sns\\nimport statsmodels.formula.api as smf\\n\\nimport torch  # -rm\\n\\nfrom joblib import Parallel, delayed\\nfrom matplotlib.lines import Line2D\\nfrom scipy.stats import ttest_ind\\nfrom snpe.inference import inference_class\\nfrom snpe.simulations import simulator_class\\nfrom snpe.utils.statistics import review_histogram_correlation\\nfrom snpe.utils.tqdm_utils import tqdm_joblib\\nfrom tqdm import tqdm\\n\\n### Set plotting parameters\\nsns.set(style=\\\"white\\\", context=\\\"talk\\\", font_scale=2.5)\\nsns.set_color_codes(palette=\\\"colorblind\\\")\\nsns.set_style(\\\"ticks\\\", {\\\"axes.linewidth\\\": 2.0})\";\n                var nbb_formatted_code = \"%load_ext autoreload\\n%autoreload 2\\n\\n### Just a formatting related plugin\\n%load_ext nb_black\\n\\n%matplotlib inline\\nimport matplotlib.pyplot as plt\\n\\nimport sys\\n\\nsys.path.append(\\\"../\\\")\\n\\nimport multiprocessing as mp\\n\\nfrom collections import deque\\nfrom pathlib import Path\\nfrom typing import Dict, Optional\\n\\nimport arviz\\n\\nimport numpy as np\\nimport pandas as pd\\nimport pyreadr\\nimport sbi\\nimport sbi.utils as sbi_utils\\nimport seaborn as sns\\nimport statsmodels.formula.api as smf\\n\\nimport torch  # -rm\\n\\nfrom joblib import Parallel, delayed\\nfrom matplotlib.lines import Line2D\\nfrom scipy.stats import ttest_ind\\nfrom snpe.inference import inference_class\\nfrom snpe.simulations import simulator_class\\nfrom snpe.utils.statistics import review_histogram_correlation\\nfrom snpe.utils.tqdm_utils import tqdm_joblib\\nfrom tqdm import tqdm\\n\\n### Set plotting parameters\\nsns.set(style=\\\"white\\\", context=\\\"talk\\\", font_scale=2.5)\\nsns.set_color_codes(palette=\\\"colorblind\\\")\\nsns.set_style(\\\"ticks\\\", {\\\"axes.linewidth\\\": 2.0})\";\n                var nbb_cells = Jupyter.notebook.get_cells();\n                for (var i = 0; i < nbb_cells.length; ++i) {\n                    if (nbb_cells[i].input_prompt_number == nbb_cell_id) {\n                        if (nbb_cells[i].get_text() == nbb_unformatted_code) {\n                             nbb_cells[i].set_text(nbb_formatted_code);\n                        }\n                        break;\n                    }\n                }\n            }, 500);\n            ",
      "text/plain": [
       "<IPython.core.display.Javascript object>"
      ]
     },
     "metadata": {},
     "output_type": "display_data"
    }
   ],
   "source": [
    "%load_ext autoreload\n",
    "%autoreload 2\n",
    "\n",
    "### Just a formatting related plugin\n",
    "%load_ext nb_black\n",
    "\n",
    "%matplotlib inline\n",
    "import matplotlib.pyplot as plt\n",
    "\n",
    "import sys\n",
    "\n",
    "sys.path.append(\"../\")\n",
    "\n",
    "import multiprocessing as mp\n",
    "\n",
    "from collections import deque\n",
    "from pathlib import Path\n",
    "from typing import Dict, Optional\n",
    "\n",
    "import arviz\n",
    "\n",
    "import numpy as np\n",
    "import pandas as pd\n",
    "import pyreadr\n",
    "import sbi\n",
    "import sbi.utils as sbi_utils\n",
    "import seaborn as sns\n",
    "import statsmodels.formula.api as smf\n",
    "\n",
    "import torch  # -rm\n",
    "\n",
    "from joblib import Parallel, delayed\n",
    "from matplotlib.lines import Line2D\n",
    "from scipy.stats import ttest_ind\n",
    "from snpe.inference import inference_class\n",
    "from snpe.simulations import simulator_class\n",
    "from snpe.utils.statistics import review_histogram_correlation\n",
    "from snpe.utils.tqdm_utils import tqdm_joblib\n",
    "from tqdm import tqdm\n",
    "\n",
    "### Set plotting parameters\n",
    "sns.set(style=\"white\", context=\"talk\", font_scale=2.5)\n",
    "sns.set_color_codes(palette=\"colorblind\")\n",
    "sns.set_style(\"ticks\", {\"axes.linewidth\": 2.0})"
   ]
  },
  {
   "cell_type": "markdown",
   "id": "18adf9ca",
   "metadata": {},
   "source": [
    "In the cell below the path where the output of the simulation will be stored is defined, modify it to match your storage preferences."
   ]
  },
  {
   "cell_type": "code",
   "execution_count": 4,
   "id": "1086598b",
   "metadata": {},
   "outputs": [
    {
     "data": {
      "application/javascript": "\n            setTimeout(function() {\n                var nbb_cell_id = 4;\n                var nbb_unformatted_code = \"ARTIFACT_PATH = Path(\\\"../../../\\\")\";\n                var nbb_formatted_code = \"ARTIFACT_PATH = Path(\\\"../../../\\\")\";\n                var nbb_cells = Jupyter.notebook.get_cells();\n                for (var i = 0; i < nbb_cells.length; ++i) {\n                    if (nbb_cells[i].input_prompt_number == nbb_cell_id) {\n                        if (nbb_cells[i].get_text() == nbb_unformatted_code) {\n                             nbb_cells[i].set_text(nbb_formatted_code);\n                        }\n                        break;\n                    }\n                }\n            }, 500);\n            ",
      "text/plain": [
       "<IPython.core.display.Javascript object>"
      ]
     },
     "metadata": {},
     "output_type": "display_data"
    }
   ],
   "source": [
    "ARTIFACT_PATH = Path(\"../../../\")"
   ]
  },
  {
   "cell_type": "markdown",
   "id": "3a22b86a",
   "metadata": {},
   "source": [
    "Another option to adjust is the number of CPUs involved in the simulation. The cell below adjusts it to employ all the CPUs available."
   ]
  },
  {
   "cell_type": "code",
   "execution_count": 5,
   "id": "1fc65061",
   "metadata": {},
   "outputs": [
    {
     "name": "stdout",
     "output_type": "stream",
     "text": [
      "The number of available CPUs is: 8\n",
      "The number of CPUs to be employed will be 8\n"
     ]
    },
    {
     "data": {
      "application/javascript": "\n            setTimeout(function() {\n                var nbb_cell_id = 5;\n                var nbb_unformatted_code = \"print(f\\\"The number of available CPUs is: {mp.cpu_count()}\\\")\\ntorch.set_num_threads(mp.cpu_count())\\nprint(f\\\"The number of CPUs to be employed will be {torch.get_num_threads()}\\\")\";\n                var nbb_formatted_code = \"print(f\\\"The number of available CPUs is: {mp.cpu_count()}\\\")\\ntorch.set_num_threads(mp.cpu_count())\\nprint(f\\\"The number of CPUs to be employed will be {torch.get_num_threads()}\\\")\";\n                var nbb_cells = Jupyter.notebook.get_cells();\n                for (var i = 0; i < nbb_cells.length; ++i) {\n                    if (nbb_cells[i].input_prompt_number == nbb_cell_id) {\n                        if (nbb_cells[i].get_text() == nbb_unformatted_code) {\n                             nbb_cells[i].set_text(nbb_formatted_code);\n                        }\n                        break;\n                    }\n                }\n            }, 500);\n            ",
      "text/plain": [
       "<IPython.core.display.Javascript object>"
      ]
     },
     "metadata": {},
     "output_type": "display_data"
    }
   ],
   "source": [
    "print(f\"The number of available CPUs is: {mp.cpu_count()}\")\n",
    "torch.set_num_threads(mp.cpu_count())\n",
    "print(f\"The number of CPUs to be employed will be {torch.get_num_threads()}\")"
   ]
  },
  {
   "cell_type": "markdown",
   "id": "d74645eb",
   "metadata": {},
   "source": [
    "### C. The simulation and its arguments"
   ]
  },
  {
   "cell_type": "markdown",
   "id": "c6ea6abe",
   "metadata": {},
   "source": [
    "The generate and save function defined below, as you will see, is in charge of calling the desired simulator class and delivering the necessary arguments to run the simulation. Let's briefly review which are the arguments involved in the simulation.\n",
    "\n",
    "- __num_simulations__: Number of customers (Integer) to simulate. Each one is equivalent to the entire journey of a consumer consisting of:\n",
    "    1. Reviewing the prior reviews of a product and forming an expectation of the product\n",
    "    2. Purchase and experience the product\n",
    "    3. Decide whether to leave a rating or not based on the difference between the expected experience and the actual experience. If the result of the decision is positive the consumer will continue to points 4 and 5, otherwise the simulation ends here.\n",
    "    4. \"Decide\" whether to exhibit herding behavior in its rating in case it is being posted.\n",
    "    5. Post the rating.\n",
    "    \n",
    "\n",
    "- __review_prior__: Set of initial ratings of the product that are pre-loaded before the simulation starts, taking the shape of an array of five integer values. By default, this is set as an array of five ones. This implies that by the time the first consumer of the simulation reviews the product 5 prior reviews will be observed, each of them assigned to one of the five values composing the rating scale [1 - 5]. \n",
    "\n",
    "\n",
    "- __tendency_to_rate__: Underlying tendency to rate for all consumers taking float values in the interval [0,1]. In other words, this is the proportion of consumers that will post a rating regardless of the value of the rho parameter(s) and the difference between their actual and expected product experience. If set at the default value of 0.05, 5% of all consumers will post a rating independently of the other factors at play in the simulation. This is necessary to address the \"cold start\" problem where by random chance for some products, we might have high enough values of rho that no visitors ever leave a rating.\n",
    "\n",
    "\n",
    "- __simulation_type__: Type of simulation output to produce between timeseries and histogram. Accepts the strings \"timeseries\" and \"histogram\" as inputs. Returns the time series of the simulated ratings, in a cumulative histogram format (so, the order of rating accumulation is preserved) if \"timeseries\" is chosen. For \"histogram\", returns the final histogram of ratings (and throws away the order of rating accumulation). \n",
    "\n",
    "\n",
    "- __previous_rating_measure__: Measure of previous ratings that will be taken as a reference when experiencing herding behavior. It can be either the mean, the mode or the latest review posted. For example, if a consumer leaves a rating being subject to herding and this parameter is set as mode, it will herd towards the mode of all previous reviews. This argument is specific to the Herding and Double herding simulations and takes the strings \"mode\", \"mean\" and \"latest\" as valid inputs.\n",
    "\n",
    "\n",
    "- __min_reviews_for_herding__: Minimum number of pre-existing reviews for a consumer to be able to be subject to herding behavior. It has to be an integer value larger than 0. This argument is specific to the Herding and Double herding simulations.\n",
    "\n",
    "\n",
    "- __herding_differentiating_measure__: Measure of the already posted ratings to be considered as threshold around which the different herding parameters will apply. This measure can be the mean or the mode of the previous ratings. In case this parameter is set as \"mean\" one herding parameter will apply if the consumer's intended rating is above the mean while a different one will do if it is below. This argument is specific to the Double herding simulation and takes the strings \"mode\" and \"mean\" as valid inputs.\n",
    "\n",
    "\n",
    "- __simulation_class__:  Simulation class to run between the four existing ones. It takes any of the strings described below as a valid input:  \n",
    "\n",
    "    - \"singlerho\" for Single rho simulation\n",
    "    - \"doublerho\" for Double rho simulation\n",
    "    - \"herding\" for Herding simulation\n",
    "    - \"doubleherding\" for  Double herding simulation"
   ]
  },
  {
   "cell_type": "code",
   "execution_count": 6,
   "id": "5fd6c0fa",
   "metadata": {},
   "outputs": [
    {
     "data": {
      "application/javascript": "\n            setTimeout(function() {\n                var nbb_cell_id = 6;\n                var nbb_unformatted_code = \"def generate_and_save_simulations(\\n    num_simulations: int = None,\\n    review_prior: np.array = None,\\n    tendency_to_rate: float = None,\\n    simulation_type: str = None,\\n    previous_rating_measure: str = \\\"mean\\\",\\n    min_reviews_for_herding: int = 5,\\n    herding_differentiating_measure: str = \\\"mean\\\",\\n    simulation_class: int = \\\"singlerho\\\",\\n):\\n    assert simulation_class in [\\n        \\\"singlerho\\\",\\n        \\\"doublerho\\\",\\n        \\\"herding\\\",\\n        \\\"doubleherding\\\",\\n    ], \\\" Can only use singlerho/doublerho/herding/doubleherding as simulation classes, please enter a valid class.\\\"\\n    params = {\\n        \\\"review_prior\\\": review_prior,\\n        \\\"tendency_to_rate\\\": tendency_to_rate,\\n        \\\"simulation_type\\\": simulation_type,\\n        \\\"previous_rating_measure\\\": previous_rating_measure,\\n    }\\n\\n    params_double = params.copy()\\n    params_herding = params.copy()\\n    params_herding.update(\\n        {\\n            \\\"previous_rating_measure\\\": previous_rating_measure,\\n            \\\"min_reviews_for_herding\\\": min_reviews_for_herding,\\n        }\\n    )\\n\\n    params_double_herding = params_herding.copy()\\n    params_double_herding.update(\\n        {\\\"herding_differentiating_measure\\\": herding_differentiating_measure}\\n    )\\n\\n    simulation_classes = {\\n        \\\"singlerho\\\": simulator_class.SingleRhoSimulator(params),\\n        \\\"doublerho\\\": simulator_class.DoubleRhoSimulator(params_double),\\n        \\\"herding\\\": simulator_class.HerdingSimulator(params_herding),\\n        \\\"doubleherding\\\": simulator_class.DoubleHerdingSimulator(params_double_herding),\\n    }\\n\\n    simulator = simulation_classes.get(simulation_class)\\n    print(\\\"Simulation type\\\" + str(simulation_classes.get(simulation_class)))\\n    simulator.simulate(num_simulations=num_simulations)\\n    simulator.save_simulations(ARTIFACT_PATH)\";\n                var nbb_formatted_code = \"def generate_and_save_simulations(\\n    num_simulations: int = None,\\n    review_prior: np.array = None,\\n    tendency_to_rate: float = None,\\n    simulation_type: str = None,\\n    previous_rating_measure: str = \\\"mean\\\",\\n    min_reviews_for_herding: int = 5,\\n    herding_differentiating_measure: str = \\\"mean\\\",\\n    simulation_class: int = \\\"singlerho\\\",\\n):\\n    assert simulation_class in [\\n        \\\"singlerho\\\",\\n        \\\"doublerho\\\",\\n        \\\"herding\\\",\\n        \\\"doubleherding\\\",\\n    ], \\\" Can only use singlerho/doublerho/herding/doubleherding as simulation classes, please enter a valid class.\\\"\\n    params = {\\n        \\\"review_prior\\\": review_prior,\\n        \\\"tendency_to_rate\\\": tendency_to_rate,\\n        \\\"simulation_type\\\": simulation_type,\\n        \\\"previous_rating_measure\\\": previous_rating_measure,\\n    }\\n\\n    params_double = params.copy()\\n    params_herding = params.copy()\\n    params_herding.update(\\n        {\\n            \\\"previous_rating_measure\\\": previous_rating_measure,\\n            \\\"min_reviews_for_herding\\\": min_reviews_for_herding,\\n        }\\n    )\\n\\n    params_double_herding = params_herding.copy()\\n    params_double_herding.update(\\n        {\\\"herding_differentiating_measure\\\": herding_differentiating_measure}\\n    )\\n\\n    simulation_classes = {\\n        \\\"singlerho\\\": simulator_class.SingleRhoSimulator(params),\\n        \\\"doublerho\\\": simulator_class.DoubleRhoSimulator(params_double),\\n        \\\"herding\\\": simulator_class.HerdingSimulator(params_herding),\\n        \\\"doubleherding\\\": simulator_class.DoubleHerdingSimulator(params_double_herding),\\n    }\\n\\n    simulator = simulation_classes.get(simulation_class)\\n    print(\\\"Simulation type\\\" + str(simulation_classes.get(simulation_class)))\\n    simulator.simulate(num_simulations=num_simulations)\\n    simulator.save_simulations(ARTIFACT_PATH)\";\n                var nbb_cells = Jupyter.notebook.get_cells();\n                for (var i = 0; i < nbb_cells.length; ++i) {\n                    if (nbb_cells[i].input_prompt_number == nbb_cell_id) {\n                        if (nbb_cells[i].get_text() == nbb_unformatted_code) {\n                             nbb_cells[i].set_text(nbb_formatted_code);\n                        }\n                        break;\n                    }\n                }\n            }, 500);\n            ",
      "text/plain": [
       "<IPython.core.display.Javascript object>"
      ]
     },
     "metadata": {},
     "output_type": "display_data"
    }
   ],
   "source": [
    "def generate_and_save_simulations(\n",
    "    num_simulations: int = None,\n",
    "    review_prior: np.array = None,\n",
    "    tendency_to_rate: float = None,\n",
    "    simulation_type: str = None,\n",
    "    previous_rating_measure: str = \"mean\",\n",
    "    min_reviews_for_herding: int = 5,\n",
    "    herding_differentiating_measure: str = \"mean\",\n",
    "    simulation_class: int = \"singlerho\",\n",
    "):\n",
    "    assert simulation_class in [\n",
    "        \"singlerho\",\n",
    "        \"doublerho\",\n",
    "        \"herding\",\n",
    "        \"doubleherding\",\n",
    "    ], \" Can only use singlerho/doublerho/herding/doubleherding as simulation classes, please enter a valid class.\"\n",
    "    params = {\n",
    "        \"review_prior\": review_prior,\n",
    "        \"tendency_to_rate\": tendency_to_rate,\n",
    "        \"simulation_type\": simulation_type,\n",
    "        \"previous_rating_measure\": previous_rating_measure,\n",
    "    }\n",
    "\n",
    "    params_double = params.copy()\n",
    "    params_herding = params.copy()\n",
    "    params_herding.update(\n",
    "        {\n",
    "            \"previous_rating_measure\": previous_rating_measure,\n",
    "            \"min_reviews_for_herding\": min_reviews_for_herding,\n",
    "        }\n",
    "    )\n",
    "\n",
    "    params_double_herding = params_herding.copy()\n",
    "    params_double_herding.update(\n",
    "        {\"herding_differentiating_measure\": herding_differentiating_measure}\n",
    "    )\n",
    "\n",
    "    simulation_classes = {\n",
    "        \"singlerho\": simulator_class.SingleRhoSimulator(params),\n",
    "        \"doublerho\": simulator_class.DoubleRhoSimulator(params_double),\n",
    "        \"herding\": simulator_class.HerdingSimulator(params_herding),\n",
    "        \"doubleherding\": simulator_class.DoubleHerdingSimulator(params_double_herding),\n",
    "    }\n",
    "\n",
    "    simulator = simulation_classes.get(simulation_class)\n",
    "    print(\"Simulation type\" + str(simulation_classes.get(simulation_class)))\n",
    "    simulator.simulate(num_simulations=num_simulations)\n",
    "    simulator.save_simulations(ARTIFACT_PATH)"
   ]
  },
  {
   "cell_type": "markdown",
   "id": "e680cde0",
   "metadata": {},
   "source": [
    "### D. Running the simulations"
   ]
  },
  {
   "cell_type": "markdown",
   "id": "6df62b31",
   "metadata": {},
   "source": [
    "Finally, we can run the different simulations by calling the \"generate_and_save\" function and providing the appropriate arguments. The examples below show how to run the four different classes of simulations employing a set of example arguments shaping each of them such that: \n",
    "\n",
    "1. Ten consumers will be generated.\n",
    "2. Five ratings (one for each rating value) are pre-loaded.\n",
    "3. The tendency to rate is set at 5%.\n",
    "4. It will return a time series of the simulated ratings.\n",
    "\n",
    "In the case of the Herding simulation, the three additional arguments required are provided as follows:\n",
    " \n",
    "5. The mode (of all previous ratings) is taken as the reference metric for herding.\n",
    "6. At least five previous ratings are required for herding to start happening.\n",
    "\n",
    "For the case of the Double herding simulation, its idiosyncratic parameter determines that:\n",
    "\n",
    "7. The threshold for the Double herding is determined by the mean of all previous ratings.\n"
   ]
  },
  {
   "cell_type": "markdown",
   "id": "02c5ee6b",
   "metadata": {},
   "source": [
    "#### D.1 Single Rho simulation"
   ]
  },
  {
   "cell_type": "code",
   "execution_count": 7,
   "id": "5690ae1c",
   "metadata": {},
   "outputs": [
    {
     "name": "stdout",
     "output_type": "stream",
     "text": [
      "Simulation type<snpe.simulations.simulator_class.SingleRhoSimulator object at 0x7fc12e9b32b0>\n"
     ]
    },
    {
     "name": "stderr",
     "output_type": "stream",
     "text": [
      "Simulations: 100% 10/10 [00:13<00:00,  1.33s/it]\n",
      "/data/reputation-systems/snpe/notebooks/../snpe/simulations/simulator_class.py:118: VisibleDeprecationWarning: Creating an ndarray from ragged nested sequences (which is a list-or-tuple of lists-or-tuples-or ndarrays with different lengths or shapes) is deprecated. If you meant to do this, you must specify 'dtype=object' when creating the ndarray.\n",
      "  self.simulations = np.array(simulations)\n"
     ]
    },
    {
     "data": {
      "application/javascript": "\n            setTimeout(function() {\n                var nbb_cell_id = 7;\n                var nbb_unformatted_code = \"generate_and_save_simulations(\\n    10, np.ones(5), 0.05, \\\"timeseries\\\", simulation_class=\\\"singlerho\\\"\\n)\";\n                var nbb_formatted_code = \"generate_and_save_simulations(\\n    10, np.ones(5), 0.05, \\\"timeseries\\\", simulation_class=\\\"singlerho\\\"\\n)\";\n                var nbb_cells = Jupyter.notebook.get_cells();\n                for (var i = 0; i < nbb_cells.length; ++i) {\n                    if (nbb_cells[i].input_prompt_number == nbb_cell_id) {\n                        if (nbb_cells[i].get_text() == nbb_unformatted_code) {\n                             nbb_cells[i].set_text(nbb_formatted_code);\n                        }\n                        break;\n                    }\n                }\n            }, 500);\n            ",
      "text/plain": [
       "<IPython.core.display.Javascript object>"
      ]
     },
     "metadata": {},
     "output_type": "display_data"
    }
   ],
   "source": [
    "generate_and_save_simulations(\n",
    "    10, np.ones(5), 0.05, \"timeseries\", simulation_class=\"singlerho\"\n",
    ")"
   ]
  },
  {
   "cell_type": "markdown",
   "id": "29df36d2",
   "metadata": {},
   "source": [
    "#### D.2 Double Rho simulation"
   ]
  },
  {
   "cell_type": "code",
   "execution_count": 8,
   "id": "2e1f641b",
   "metadata": {},
   "outputs": [
    {
     "name": "stdout",
     "output_type": "stream",
     "text": [
      "Simulation type<snpe.simulations.simulator_class.DoubleRhoSimulator object at 0x7fc12e901580>\n"
     ]
    },
    {
     "name": "stderr",
     "output_type": "stream",
     "text": [
      "Simulations: 100% 10/10 [00:02<00:00,  3.78it/s]\n"
     ]
    },
    {
     "data": {
      "application/javascript": "\n            setTimeout(function() {\n                var nbb_cell_id = 8;\n                var nbb_unformatted_code = \"generate_and_save_simulations(\\n    10, np.ones(5), 0.05, \\\"timeseries\\\", simulation_class=\\\"doublerho\\\"\\n)\";\n                var nbb_formatted_code = \"generate_and_save_simulations(\\n    10, np.ones(5), 0.05, \\\"timeseries\\\", simulation_class=\\\"doublerho\\\"\\n)\";\n                var nbb_cells = Jupyter.notebook.get_cells();\n                for (var i = 0; i < nbb_cells.length; ++i) {\n                    if (nbb_cells[i].input_prompt_number == nbb_cell_id) {\n                        if (nbb_cells[i].get_text() == nbb_unformatted_code) {\n                             nbb_cells[i].set_text(nbb_formatted_code);\n                        }\n                        break;\n                    }\n                }\n            }, 500);\n            ",
      "text/plain": [
       "<IPython.core.display.Javascript object>"
      ]
     },
     "metadata": {},
     "output_type": "display_data"
    }
   ],
   "source": [
    "generate_and_save_simulations(\n",
    "    10, np.ones(5), 0.05, \"timeseries\", simulation_class=\"doublerho\"\n",
    ")"
   ]
  },
  {
   "cell_type": "markdown",
   "id": "d5502ca1",
   "metadata": {},
   "source": [
    "#### D.3 Herding simulation"
   ]
  },
  {
   "cell_type": "code",
   "execution_count": 9,
   "id": "759d6525",
   "metadata": {
    "scrolled": true
   },
   "outputs": [
    {
     "name": "stdout",
     "output_type": "stream",
     "text": [
      "Simulation type<snpe.simulations.simulator_class.HerdingSimulator object at 0x7fc12e7c2ca0>\n"
     ]
    },
    {
     "name": "stderr",
     "output_type": "stream",
     "text": [
      "Simulations: 100% 10/10 [00:12<00:00,  1.24s/it]\n"
     ]
    },
    {
     "data": {
      "application/javascript": "\n            setTimeout(function() {\n                var nbb_cell_id = 9;\n                var nbb_unformatted_code = \"generate_and_save_simulations(\\n    10, np.ones(5), 0.05, \\\"timeseries\\\", \\\"mode\\\", 5, simulation_class=\\\"herding\\\"\\n)\";\n                var nbb_formatted_code = \"generate_and_save_simulations(\\n    10, np.ones(5), 0.05, \\\"timeseries\\\", \\\"mode\\\", 5, simulation_class=\\\"herding\\\"\\n)\";\n                var nbb_cells = Jupyter.notebook.get_cells();\n                for (var i = 0; i < nbb_cells.length; ++i) {\n                    if (nbb_cells[i].input_prompt_number == nbb_cell_id) {\n                        if (nbb_cells[i].get_text() == nbb_unformatted_code) {\n                             nbb_cells[i].set_text(nbb_formatted_code);\n                        }\n                        break;\n                    }\n                }\n            }, 500);\n            ",
      "text/plain": [
       "<IPython.core.display.Javascript object>"
      ]
     },
     "metadata": {},
     "output_type": "display_data"
    }
   ],
   "source": [
    "generate_and_save_simulations(\n",
    "    10, np.ones(5), 0.05, \"timeseries\", \"mode\", 5, simulation_class=\"herding\"\n",
    ")"
   ]
  },
  {
   "cell_type": "markdown",
   "id": "e9afde5d",
   "metadata": {},
   "source": [
    "#### D.4 Double herding simulation"
   ]
  },
  {
   "cell_type": "code",
   "execution_count": 10,
   "id": "541f59b2",
   "metadata": {},
   "outputs": [
    {
     "name": "stdout",
     "output_type": "stream",
     "text": [
      "Simulation type<snpe.simulations.simulator_class.DoubleHerdingSimulator object at 0x7fc12e9017f0>\n"
     ]
    },
    {
     "name": "stderr",
     "output_type": "stream",
     "text": [
      "Simulations: 100% 10/10 [00:09<00:00,  1.00it/s]\n"
     ]
    },
    {
     "data": {
      "application/javascript": "\n            setTimeout(function() {\n                var nbb_cell_id = 10;\n                var nbb_unformatted_code = \"generate_and_save_simulations(\\n    10,\\n    np.ones(5),\\n    0.05,\\n    \\\"timeseries\\\",\\n    \\\"mode\\\",\\n    5,\\n    \\\"mean\\\",\\n    simulation_class=\\\"doubleherding\\\",\\n)\";\n                var nbb_formatted_code = \"generate_and_save_simulations(\\n    10,\\n    np.ones(5),\\n    0.05,\\n    \\\"timeseries\\\",\\n    \\\"mode\\\",\\n    5,\\n    \\\"mean\\\",\\n    simulation_class=\\\"doubleherding\\\",\\n)\";\n                var nbb_cells = Jupyter.notebook.get_cells();\n                for (var i = 0; i < nbb_cells.length; ++i) {\n                    if (nbb_cells[i].input_prompt_number == nbb_cell_id) {\n                        if (nbb_cells[i].get_text() == nbb_unformatted_code) {\n                             nbb_cells[i].set_text(nbb_formatted_code);\n                        }\n                        break;\n                    }\n                }\n            }, 500);\n            ",
      "text/plain": [
       "<IPython.core.display.Javascript object>"
      ]
     },
     "metadata": {},
     "output_type": "display_data"
    }
   ],
   "source": [
    "generate_and_save_simulations(\n",
    "    10,\n",
    "    np.ones(5),\n",
    "    0.05,\n",
    "    \"timeseries\",\n",
    "    \"mode\",\n",
    "    5,\n",
    "    \"mean\",\n",
    "    simulation_class=\"doubleherding\",\n",
    ")"
   ]
  },
  {
   "cell_type": "markdown",
   "id": "88e3debb",
   "metadata": {},
   "source": [
    "### Appendix 1: Rating Scale simulation"
   ]
  },
  {
   "attachments": {},
   "cell_type": "markdown",
   "id": "80d21f73",
   "metadata": {},
   "source": [
    "Since this tutorial was first written a new kind of non-marketplace simulator, the Rating Scale simulation, has been implemented. It is represented by the RatingScaleSimulator class, which is a child class of the HerdingSimulator class. Its main addition is to introduce 5 new parameters that create a rating scale to determine the value of the review that each consumer will post (1 to 5 stars) depending on the difference between its expected and actual experience with the product (delta). This rating scale is delimited by the following two elements:\n",
    "\n",
    "- __five_star_highest_limit__: Upper bound for delta that will result in a 5-star rating. The actual limit will lie between `five_star_highest_limit` and `five_star_highest_limit` * 0.5. If delta is larger than this limit, the user's review will be a 5-star one. \n",
    "\n",
    "\n",
    "- __one_star_lowest_limit__:  Lower bound for delta that will result in a 1-star rating. The actual limit will lie between `one_star_lowest_limit` and `one_star_lowest_limit` * 0.5. If delta is lower than this limit, the user's review will be a 1-star one. \n",
    "\n",
    "Considering these two limits the rating scale is governed by the following four parameters introduced by the Rating Scale simulator:\n",
    "\n",
    "1. __P5__: taking values between 0.5 and 1, it determines the limit to which delta is compared to get a 5-star rating. Such limit will be equivalent to: five_star_highest_limit * p5. Thus, for example, if p5 = 1 then the limit will be five_star_highest_limit.\n",
    "\n",
    "\n",
    "2. __P4__: taking values between 0.25 and 0.75, it determines the limit to which delta is compared to get a 4-star rating. Such limit will be equivalent to: five_star_highest_limit * p5 * p4.\n",
    "\n",
    "\n",
    "3. __P1__: taking values between 0.5 and 1, it determines the limit to which delta is compared to get a 1-star rating. Such limit will be equivalent to: one_star_lowest_limit * p1. Thus, for example, if p1 = 1 then the limit will be one_star_lowest_limit.\n",
    "\n",
    "\n",
    "4. __P2__: taking values between 0.25 and 0.75, it determines the limit to which delta is compared to get a 2-star rating. Such limit will be equivalent to: one_star_lowest_limit * p1 * p2.\n",
    "\n",
    "\n",
    "Having this in mind, 3-star ratings will come from the space where delta is in between one_star_lowest_limit * p1 * p2 to zero, and from zero to five_star_highest_limit * p5 * p4.\n",
    "\n",
    "Lastly, the fifth parameter introduced by the rating scale simulator is:\n",
    "\n",
    "5. __bias_5_star__ : Probability that a user is biased towards five stars and leaves a 5 star rating irrespective of its product experience."
   ]
  }
 ],
 "metadata": {
  "kernelspec": {
   "display_name": "Python 3 (ipykernel)",
   "language": "python",
   "name": "python3"
  },
  "language_info": {
   "codemirror_mode": {
    "name": "ipython",
    "version": 3
   },
   "file_extension": ".py",
   "mimetype": "text/x-python",
   "name": "python",
   "nbconvert_exporter": "python",
   "pygments_lexer": "ipython3",
   "version": "3.9.7"
  }
 },
 "nbformat": 4,
 "nbformat_minor": 5
}
